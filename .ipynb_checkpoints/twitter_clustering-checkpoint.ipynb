{
 "cells": [
  {
   "cell_type": "markdown",
   "metadata": {},
   "source": [
    "# Twitter K-Means Clustering Sample Analysis\n",
    "R. Ballard - May 2020\n",
    "\n",
    "This markdown Jupyter notebook contains a write-up and python script for a relatively simple k-means analysis on recent Tweets with given search parameters.\n",
    "\n",
    "\n",
    "# Overview\n",
    "1. A Twitter Dev account was created and an API key was generated.\n",
    "2. An Environment is deployed which has the necessary analysis packages installed #TODO: CREATE ENVIRONMENT REPO.\n",
    "3. Search parameters are set. In this case they relate to COVID-19 and are either geotagged or belong to accounts with locations listed within 10km of Reagan National Airport.\n",
    "4. 1000 Recent Tweets with the above parameters are returned from the Twitter search API.\n",
    "5. This is saved to an archive directory. By repeatedly extracting the data over time trend analysis becomes possible #TODO: DEVELOP TREND ANALYSIS\n",
    "6. "
   ]
  },
  {
   "cell_type": "code",
   "execution_count": 33,
   "metadata": {},
   "outputs": [],
   "source": [
    "from pathlib import Path\n",
    "import json\n",
    "import configparser\n",
    "import requests\n",
    "import pandas\n",
    "import numpy\n",
    "import tweepy\n",
    "import datetime\n",
    "import nltk\n",
    "import string\n",
    "import collections\n",
    "import matplotlib.pyplot as plt\n",
    "from sklearn.feature_extraction.text import TfidfVectorizer\n",
    "from sklearn import metrics\n",
    "from sklearn.cluster import KMeans\n",
    "from sklearn.metrics import silhouette_score"
   ]
  },
  {
   "cell_type": "markdown",
   "metadata": {},
   "source": [
    "This will download nltk stopwords and punkt if not already downloaded."
   ]
  },
  {
   "cell_type": "code",
   "execution_count": 14,
   "metadata": {},
   "outputs": [],
   "source": [
    "%%capture\n",
    "nltk_pkg = ['stopwords','punkt']\n",
    "for i in nltk_pkg:\n",
    "    try:\n",
    "        nltk.data.find(i)\n",
    "    except LookupError:\n",
    "        nltk.download(i)"
   ]
  },
  {
   "cell_type": "markdown",
   "metadata": {},
   "source": [
    "## Define Constants and Global Variables\n",
    "Global constants within the script are defined. Timestamp enumerated, secrets path named."
   ]
  },
  {
   "cell_type": "code",
   "execution_count": null,
   "metadata": {},
   "outputs": [],
   "source": [
    "config = configparser.ConfigParser()\n",
    "\n",
    "#Set current datetime, will be used for processing timestamps\n",
    "ymdhms = datetime.datetime.now().strftime('%Y%m%d%H%M%S')\n",
    "\n",
    "#Set location of keyfile .ini - contains Twitter app API secrets\n",
    "keyfile_path=[secrets.ini]\n",
    "\n",
    "#Read secrets, could be assigned as environment variables, etc\n",
    "config.read(keyfile_path);"
   ]
  },
  {
   "cell_type": "markdown",
   "metadata": {},
   "source": [
    "Stop word list is selected, nltk English stopwords are used.\n",
    "Then, additional strings are added. These were selected by the analyst as they occured frequently in the dataset and have limited value in the context of analysis. These additional strings were identified by manual inspection of the tokenized dataset."
   ]
  },
  {
   "cell_type": "code",
   "execution_count": 4,
   "metadata": {},
   "outputs": [],
   "source": [
    "#Set variable to be used for stop words set to nltk English stopwords\n",
    "stop_words = list(nltk.corpus.stopwords.words('english'))\n",
    "stop_words.extend(['rt','\\n','\\t','`','``','”','“','’','•','\\'s','\\'\\'','\\'ve','\\'ll','‼️',\"'d\", \"'re\", 'could', 'might', 'must', \"n't\", 'need', 'sha', 'wo', 'would'])\n",
    "stop_words.extend(string.punctuation)\n"
   ]
  },
  {
   "cell_type": "code",
   "execution_count": 6,
   "metadata": {},
   "outputs": [],
   "source": [
    "#This regex will perform a capturing look-forward from http* or ftp* to the first following space. This is used to parse out urls in tweets\n",
    "url_target = r'(http[s]?|ftp)([^\\s]+)'\n",
    "\n",
    "#This regex searches for words ending in ellipses, which are truncated and may inflate counts\n",
    "#e.g. con... short for contagious? congress? continent? ..etc\n",
    "trunc_str_target = r'(\\S+\\.\\.\\.)'\n",
    "trunc_str_target2 = r'(\\S+…)'"
   ]
  },
  {
   "cell_type": "markdown",
   "metadata": {},
   "source": [
    "## Interact with recent Tweets using Tweepy\n",
    "In this step we pass Twitter API keys read in from the config file defined above to the Twitter API using tweepy. With an authenticated token passed an API instance is generated and we are able to select from recent Tweets for our analysis."
   ]
  },
  {
   "cell_type": "code",
   "execution_count": 7,
   "metadata": {},
   "outputs": [],
   "source": [
    "#Authenticate key parsed from secrets\n",
    "auth = tweepy.AppAuthHandler(config['consumer_keys']['API_KEY'], config['consumer_keys']['API_SECRET_KEY'])\n",
    "\n",
    "#Instatiate tweepy API object, set large timeout value to extract many tweets\n",
    "api = tweepy.API(auth,timeout=100000)"
   ]
  },
  {
   "cell_type": "markdown",
   "metadata": {},
   "source": [
    "## Define Search Terms\n",
    "We define search criteria to be passed to the Twitter API. Documentation here : #TODO LIST DOCUMENTATION"
   ]
  },
  {
   "cell_type": "code",
   "execution_count": 8,
   "metadata": {},
   "outputs": [],
   "source": [
    "#TODO List Twitter API documentation\n",
    "#Sets search terms, joins term list using OR as concatenator to generate search string\n",
    "\n",
    "target_terms=['coronavirus','covid-19','covid19','air travel']\n",
    "separator = \" OR \" \n",
    "target_term_str = separator.join(target_terms)\n",
    "\n",
    "#TODO LIST API SEARCH LOCATION DEFINITION ETC\n",
    "\n",
    "\"\"\"Sets search criteria for 10km of Reagan airport\n",
    "could be extended to include additional airports or other locations and use this in an iterator\"\"\"\n",
    "\n",
    "airport_locs={'reagan':{'lat':38.8512,'long':-77.0402}}\n",
    "radius = 10\n",
    "r_unit ='km'\n",
    "\n",
    "loc_target = f\"{airport_locs['reagan']['lat']},\"+\\\n",
    "                f\"{airport_locs['reagan']['long']},\"+\\\n",
    "                f\"{radius}{r_unit}\""
   ]
  },
  {
   "cell_type": "markdown",
   "metadata": {},
   "source": [
    "The below chunk will set a value for max_tweets, 1000.\n",
    "Instantiate an empty list of searched_tweets\n",
    "Set a last_id value of -1 (most recent) and iterate while the length of the list searched_tweets is less than 1000.\n",
    "For each iteration, query the Twitter API via the Tweepy authentication object to return a Tweet with max_id of last_id\n",
    "Returned tweets will be apended to a list of searched_tweets\n",
    "last_id will be backwards iterated from most recent found Tweet."
   ]
  },
  {
   "cell_type": "code",
   "execution_count": 9,
   "metadata": {},
   "outputs": [],
   "source": [
    "max_tweets = 1000\n",
    "searched_tweets = []\n",
    "last_id = -1\n",
    "while len(searched_tweets) < max_tweets:\n",
    "    count = max_tweets - len(searched_tweets)\n",
    "    try:\n",
    "        new_tweets = api.search(q=target_term_str, geocode = loc_target, count=count, max_id=str(last_id - 1))\n",
    "        if not new_tweets:\n",
    "            break\n",
    "        searched_tweets.extend(new_tweets)\n",
    "        last_id = new_tweets[-1].id\n",
    "    except tweepy.TweepError as e:\n",
    "        # depending on TweepError.code, one may want to retry or wait\n",
    "        # to keep things simple, we will give up on an error\n",
    "        break"
   ]
  },
  {
   "cell_type": "markdown",
   "metadata": {},
   "source": [
    "The below chunk will instantiate an empty dataframe, df.\n",
    "It will then iterate over the items in searched_tweets and for each item in searched_tweets append a row to df (Append a Tweet item to df) using json_normalize.\n",
    "Subsequently, the DataFrame index will be reset and our previously defined timestmap will be appended to the dataframe."
   ]
  },
  {
   "cell_type": "code",
   "execution_count": 10,
   "metadata": {},
   "outputs": [],
   "source": [
    "#Convert list of tweets to dataframe\n",
    "df = pandas.DataFrame()\n",
    "for j in range(len(searched_tweets)):\n",
    "    df = df.append(pandas.io.json.json_normalize(searched_tweets[j]._json),sort=True)\n",
    "    \n",
    "#Reset Index, format created_at field to timestamp from Twitter datetime\n",
    "df.reset_index(drop=True,inplace=True)\n",
    "df['created_at']=pandas.to_datetime(df['created_at'], format= '%a %b %d %H:%M:%S %z %Y')"
   ]
  },
  {
   "cell_type": "markdown",
   "metadata": {},
   "source": [
    "The below chunk will write the Tweet dataframe to a user defined write directory as a pipe-delimited csv."
   ]
  },
  {
   "cell_type": "code",
   "execution_count": 25,
   "metadata": {},
   "outputs": [],
   "source": [
    "#Write data to csv\n",
    "\n",
    "#TODO abstract write path\n",
    "write_dir = Path(config['paths']['write_path'])\n",
    "file_name = f'twitter_dataset_{len(df)}_{ymdhms}.csv'\n",
    "\n",
    "write_path = Path(write_dir,file_name)\n",
    "df.to_csv(write_path,sep='|',index=False)"
   ]
  },
  {
   "cell_type": "markdown",
   "metadata": {},
   "source": [
    "## Parse Text\n",
    "This Section contains scripting for parsing and cleaning the returned Tweet dataframe containing Tweets with the above defined search criteria."
   ]
  },
  {
   "cell_type": "code",
   "execution_count": 27,
   "metadata": {},
   "outputs": [],
   "source": [
    "#Create a new field in the Tweet dataframe containing Tweets cast to lowercase values\n",
    "df['text_lower'] = df['text'].str.lower()\n",
    "\n",
    "#This section drops url_target, trunc_str_target, trunc_str_target2\n",
    "df['text_lower'] = df['text_lower'].str.replace(url_target, '',regex=True)\n",
    "df['text_lower'] = df['text_lower'].str.replace(trunc_str_target, '',regex=True)\n",
    "df['text_lower'] = df['text_lower'].str.replace(trunc_str_target2, '',regex=True)"
   ]
  },
  {
   "cell_type": "code",
   "execution_count": 28,
   "metadata": {},
   "outputs": [],
   "source": [
    "#This creates a new field in dataframe that applies nlt.word_tokenize to lowercase string Tweet in df\n",
    "df['tokenized_text'] = df['text_lower'].apply(nltk.word_tokenize)\n",
    "\n",
    "#Further subsets Tweets by dropping stop words identified above.\n",
    "df['tokenized_text_drop_sw'] =df['tokenized_text'].apply(lambda x: [w for w in x if w not in stop_words])"
   ]
  },
  {
   "cell_type": "markdown",
   "metadata": {},
   "source": [
    "### Bag Of Words\n",
    "The below cell uses a list generator to create a single list containing all tokenized Tweets."
   ]
  },
  {
   "cell_type": "code",
   "execution_count": 29,
   "metadata": {},
   "outputs": [],
   "source": [
    "#This creates a bag of words from the tweets. Concatenates all tokenized tweet text into a list.\n",
    "#https://stackoverflow.com/questions/716477/join-list-of-lists-in-python\n",
    "\n",
    "token_list = [j for i in df['tokenized_text_drop_sw'] for j in i]"
   ]
  },
  {
   "cell_type": "markdown",
   "metadata": {},
   "source": [
    "## Exploratory Charts\n",
    "This section contains exploratory graphs visualizing the Tweet dataset."
   ]
  },
  {
   "cell_type": "markdown",
   "metadata": {},
   "source": [
    "### 1. Common word frequency distribution of most common words in token \n",
    "Below is a histogram containing counts of the 25 most common words"
   ]
  },
  {
   "cell_type": "code",
   "execution_count": 30,
   "metadata": {},
   "outputs": [
    {
     "data": {
      "image/png": "[encoded data removed]",
      "text/plain": [
       "<Figure size 864x360 with 1 Axes>"
      ]
     },
     "metadata": {},
     "output_type": "display_data"
    }
   ],
   "source": [
    "#Common word frequency distribution\n",
    "plt.figure(figsize=(12,5))\n",
    "plt.title('Top 25 most common words')\n",
    "plt.xticks(fontsize=13, rotation=90)\n",
    "fd = nltk.FreqDist(token_list)\n",
    "fd.plot(25,cumulative=False)"
   ]
  },
  {
   "cell_type": "markdown",
   "metadata": {},
   "source": [
    "### 2. Log-Log Plot\n",
    "The below plot is a Log-Log plot of the Tweet bag of words. This chart can indicate focus of conversation. If we see the most common words used much more frequently with plateaus present that indicates that the more common words are used exponentially more than the less-common ones. Which could be an indicator that many people are Tweeting about the same thing.\n",
    "\n",
    "A wider array of topics would lead to a more diffuse lexicon which would lead to a more tapered decrease in the log-log chart. "
   ]
  },
  {
   "cell_type": "code",
   "execution_count": 31,
   "metadata": {},
   "outputs": [
    {
     "data": {
      "text/plain": [
       "Text(0.5,1,'log-log plot of words frequency')"
      ]
     },
     "execution_count": 31,
     "metadata": {},
     "output_type": "execute_result"
    },
    {
     "data": {
      "image/png": "[encoded data removed]",
      "text/plain": [
       "<Figure size 864x360 with 1 Axes>"
      ]
     },
     "metadata": {},
     "output_type": "display_data"
    }
   ],
   "source": [
    "#Log-Log Plot\n",
    "word_counts = sorted(collections.Counter(token_list).values(), reverse=True)\n",
    "plt.figure(figsize=(12,5))\n",
    "plt.loglog(word_counts, linestyle='-', linewidth=1.5)\n",
    "plt.ylabel(\"Freq\")\n",
    "plt.xlabel(\"Word Rank\")\n",
    "plt.title('log-log plot of words frequency')"
   ]
  },
  {
   "cell_type": "markdown",
   "metadata": {},
   "source": [
    "## K-Means Clustering\n",
    "In this section we will create a Term Frequency Inverse Document Frequency Vectorizer with the modified nltk stopwords list and use this to transform the Tweets."
   ]
  },
  {
   "cell_type": "code",
   "execution_count": 34,
   "metadata": {},
   "outputs": [],
   "source": [
    "#Vectorizer reverts to untokenized field, could be adapted to use tokenized field with stop words already removed.\n",
    "vectorizer = TfidfVectorizer(stop_words = stop_words)\n",
    "#vectorizer = TfidfVectorizer(stop_words = stop_words,tokenizer=nltk.word_tokenize)\n",
    "\n",
    "desc = df['text_lower'].values\n",
    "\n",
    "#This reverts to fitting the lowercase text of the tweets rather than the tokenized version.\n",
    "X = vectorizer.fit_transform(desc)"
   ]
  },
  {
   "cell_type": "markdown",
   "metadata": {},
   "source": [
    "### Elbow Chart\n",
    "With the vectorized set of Tweets we generate an Elbow chart to attempt to find the inflection point where the slope of the Within-Cluster Sum of Squares line begins to become flattened. This will aid us in determining the optimal number of clusters for the dataset.\n",
    "\n",
    "In the below example 9 looks to be a candidate for the number of clusters."
   ]
  },
  {
   "cell_type": "code",
   "execution_count": 35,
   "metadata": {},
   "outputs": [
    {
     "data": {
      "image/png": "[encoded data removed]",
      "text/plain": [
       "<Figure size 432x288 with 1 Axes>"
      ]
     },
     "metadata": {},
     "output_type": "display_data"
    }
   ],
   "source": [
    "wcss = []\n",
    "for i in range(1,11):\n",
    "    kmeans = KMeans(n_clusters=i,init='k-means++',max_iter=300,n_init=10,random_state=0)\n",
    "    kmeans.fit(X)\n",
    "    wcss.append(kmeans.inertia_)\n",
    "    \n",
    "plt.plot(range(1,11),wcss)\n",
    "plt.title('The Elbow Method')\n",
    "plt.xlabel('Number of clusters')\n",
    "plt.ylabel('WCSS')\n",
    "plt.show()"
   ]
  },
  {
   "cell_type": "markdown",
   "metadata": {},
   "source": [
    "### Silhouette Chart\n",
    "\n",
    "Similar to the Elbow Chart The Silhoette Chart will help us in determining the optimal number of clusters K to in which to group the Tweets.\n",
    "\n",
    "The silhouette value measures how similar a point is to its own cluster (cohesion) compared to other clusters (separation) The silhouette value is between -1 and 1, and higher values indicate better cohesion and separation (more optimal clustering).\n",
    "\n",
    "Based on this example 9 clusters appears to be optimal."
   ]
  },
  {
   "cell_type": "code",
   "execution_count": 37,
   "metadata": {},
   "outputs": [
    {
     "data": {
      "image/png": "[encoded data removed]",
      "text/plain": [
       "<Figure size 432x288 with 1 Axes>"
      ]
     },
     "metadata": {},
     "output_type": "display_data"
    }
   ],
   "source": [
    "sil = []\n",
    "kmax = 10\n",
    "\n",
    "# dissimilarity would not be defined for a single cluster, thus, minimum number of clusters should be 2\n",
    "for k in range(2, kmax+1):\n",
    "  kmeans = KMeans(n_clusters = k).fit(X)\n",
    "  labels = kmeans.labels_\n",
    "  sil.append(silhouette_score(X, labels, metric = 'euclidean'))\n",
    "\n",
    "plt.plot(range(2,kmax+1),sil)\n",
    "plt.title('The Silhouette Method')\n",
    "plt.xlabel('Number of clusters')\n",
    "plt.ylabel('Silhouette Value')\n",
    "plt.show()"
   ]
  },
  {
   "cell_type": "markdown",
   "metadata": {},
   "source": [
    "## Clustering\n",
    "With the number of clusters identified using the elbow method above we then fit our model and for each cluster list the top 25 words most common words in that cluster. This gives us some indication of different topical groupings for recent Tweets mentioning COVID-19 in their text bodies for recent Tweets and Twitter accounts based near Reagan National Airport."
   ]
  },
  {
   "cell_type": "code",
   "execution_count": 38,
   "metadata": {},
   "outputs": [
    {
     "name": "stdout",
     "output_type": "stream",
     "text": [
      "0 : new, squad, name, afthunderbirds, formation, flyovers, blueangels, series, deptofdefense, better, york, travel, feet, feel, facing, flyingwithsara, flying, flu, federal, fallen, flowers, flower, floating, fever, flights\n",
      "1 : covid, 19, cdc, overruled, troubling, screenings, fever, restart, headline, push, scientists, airport, brasilmagic, like, white, house, states, united, countries, cities, wildfire, transit, border, mexican, spreading\n",
      "2 : symbolic, ignored, wasted, kicked, feet, dncwarroom, issued, ban, experts, trump, said, time, travel, flower, floating, flowers, flu, flights, flight, zealand, first, flying, finds, fill, fever\n",
      "3 : wane, message, reopen, country, scottdetrow, lots, week, white, house, coronavirus, time, first, zealand, flight, fiqaajamal, floating, flower, flowers, flu, flights, fever, finds, fill, feet, feel\n",
      "4 : put, ranttmedia, truth, twice, shoes, swift, jonathan, around, lie, world, said, travel, facing, flower, floating, flights, flight, experts, first, fiqaajamal, extremely, finds, face, fallen, fill\n",
      "5 : en, estados, ser, para, recibir, de, ciudadanos, unidos, inscríbase, viajeros, alertas, usembassyve, localizado, federal, facing, flower, face, floating, flights, flight, first, fiqaajamal, finds, feel, fallen\n",
      "6 : statedept, alerts, 00, please, located, citizen, enroll, receive, travelers, ensure, related, covid19, visit, step, enrollment, answers, questions, et, 21, published, health, international, belarus, croatia, canada\n",
      "7 : president, coronavirus, air, travel, quarantine, trump, urge, paris, two, viewership, government, strongly, british, borisjohnson, devastate, rethink, natgeotravel, several, airlines, due, transatlantic, nilegardiner, week, pence, officials\n",
      "8 : confidence, crews, measures, increased, restore, needed, public, safety, keep, safe, amp, air, passengers, flyingwithsara, pax, agree, afa_cwa, travel, floating, flights, flight, flower, zealand, fever, first\n"
     ]
    }
   ],
   "source": [
    "word_features = vectorizer.get_feature_names()\n",
    "kmeans = KMeans(n_clusters = 9, n_init = 20, n_jobs = 1) # n_init(number of iterations for clustering) n_jobs(number of cpu cores to use)\n",
    "kmeans.fit(X)\n",
    "# We look at n the clusters generated by k-means.\n",
    "common_words = kmeans.cluster_centers_.argsort()[:,-1:-26:-1]\n",
    "for num, centroid in enumerate(common_words):\n",
    "    print(str(num) + ' : ' + ', '.join(word_features[word] for word in centroid))"
   ]
  }
 ],
 "metadata": {
  "kernelspec": {
   "display_name": "Python 3",
   "language": "python",
   "name": "python3"
  },
  "language_info": {
   "codemirror_mode": {
    "name": "ipython",
    "version": 3
   },
   "file_extension": ".py",
   "mimetype": "text/x-python",
   "name": "python",
   "nbconvert_exporter": "python",
   "pygments_lexer": "ipython3",
   "version": "3.6.4"
  }
 },
 "nbformat": 4,
 "nbformat_minor": 2
}
